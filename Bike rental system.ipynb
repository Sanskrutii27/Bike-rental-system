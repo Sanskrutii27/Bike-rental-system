{
 "cells": [
  {
   "cell_type": "code",
   "execution_count": null,
   "id": "6ffd8326",
   "metadata": {},
   "outputs": [],
   "source": [
    "class Bikerental:\n",
    "    stock=100\n",
    "    def __init__(self):\n",
    "        print(\"Welcome to bike shop!!\")\n",
    "    def displaystock(self):\n",
    "        print(f\"We have currently {self.stock} bikes available\")\n",
    "\n",
    "class Customer(Bikerental):\n",
    "    bill=0\n",
    "    def __init__(self,number_of_bikes,rentalBasis,number_of_days_or_weeks):\n",
    "        self.n=number_of_bikes\n",
    "        self.rb=rentalBasis\n",
    "        self.days_or_weeks=number_of_days_or_weeks\n",
    "\n",
    "    def rentbike(self):\n",
    "        if self.n<=0:\n",
    "            print(\"Number of bikes should be positive!\")\n",
    "        elif self.n>self.stock:\n",
    "            print(\"Enter value should be less than stock\")\n",
    "        else:\n",
    "            self.stock=self.stock-self.n\n",
    "            print(self.stock)\n",
    "\n",
    "    def returnbike(self):\n",
    "        if self.rb=='weekly':\n",
    "            self.bill=500*self.n*self.days_or_weeks\n",
    "            if self.n >=3 and self.n <=5:\n",
    "                self.bill=self.bill-(self.bill*0.30)\n",
    "                print(self.bill)\n",
    "            else:\n",
    "              print(self.bill)\n",
    "        elif self.rb=='daily':\n",
    "            self.bill=100*self.n*self.days_or_weeks\n",
    "            if self.n >=3 and self.n <=5:\n",
    "                self.bill=self.bill-(self.bill*0.30)\n",
    "                print(self.bill)\n",
    "            else:\n",
    "              print(self.bill)\n",
    "\n",
    "        \n",
    "bikeshop=Bikerental()#object\n",
    "bikeshop.displaystock()#method calling\n",
    "\n",
    "a=int(input('number of bikes: '))\n",
    "b=input('daily or weekly basis: ')\n",
    "c=int(input('number of days or weeks: '))\n",
    "\n",
    "bike=Customer(a,b,c)#Object calling\n",
    "bike.rentbike()#Method calling\n",
    "bike.returnbike()#Method calling"
   ]
  }
 ],
 "metadata": {
  "kernelspec": {
   "display_name": "Python 3 (ipykernel)",
   "language": "python",
   "name": "python3"
  },
  "language_info": {
   "codemirror_mode": {
    "name": "ipython",
    "version": 3
   },
   "file_extension": ".py",
   "mimetype": "text/x-python",
   "name": "python",
   "nbconvert_exporter": "python",
   "pygments_lexer": "ipython3",
   "version": "3.9.7"
  }
 },
 "nbformat": 4,
 "nbformat_minor": 5
}
